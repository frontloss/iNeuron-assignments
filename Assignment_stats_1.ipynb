{
  "nbformat": 4,
  "nbformat_minor": 0,
  "metadata": {
    "colab": {
      "name": "Assignment stats 1.ipynb",
      "provenance": [],
      "collapsed_sections": [],
      "authorship_tag": "ABX9TyPD+ACuSzwQZoMYvwV2lsEO",
      "include_colab_link": true
    },
    "kernelspec": {
      "name": "python3",
      "display_name": "Python 3"
    },
    "language_info": {
      "name": "python"
    }
  },
  "cells": [
    {
      "cell_type": "markdown",
      "metadata": {
        "id": "view-in-github",
        "colab_type": "text"
      },
      "source": [
        "<a href=\"https://colab.research.google.com/github/frontloss/iNeuron-assignments/blob/master/Assignment_stats_1.ipynb\" target=\"_parent\"><img src=\"https://colab.research.google.com/assets/colab-badge.svg\" alt=\"Open In Colab\"/></a>"
      ]
    },
    {
      "cell_type": "code",
      "metadata": {
        "id": "tCh16IMGwOuO"
      },
      "source": [
        "import numpy as np\n",
        "from sympy import integrate ,Symbol, exp, factorial, latex\n",
        "from IPython.display import display, Math, Latex\n",
        "import matplotlib.pyplot as plt"
      ],
      "execution_count": 1,
      "outputs": []
    },
    {
      "cell_type": "markdown",
      "metadata": {
        "id": "B2M-FLpOow12"
      },
      "source": [
        "### Problem statement 1\n",
        "The marks awarded for an assignment set for a Year 8 class of 20 students were as\n",
        "follows:\n",
        "6 7 5 7 7 8 7 6 9 7 4 10 6 8 8 9 5 6 4 8. Calculate the mean, median and mode."
      ]
    },
    {
      "cell_type": "code",
      "metadata": {
        "colab": {
          "base_uri": "https://localhost:8080/"
        },
        "id": "EutS-Xu8p72R",
        "outputId": "b7980cf4-1051-4b3c-da1f-d31a059161c0"
      },
      "source": [
        "marks = [6,7,5,7,7,8,7,6,9,7,4,10,6,8,8,9,5,6,4,8]\n",
        "\n",
        "def mean(marks):\n",
        "    return sum(marks)/len(marks)\n",
        "\n",
        "def median(marks):\n",
        "    sorted_marks = sorted(marks)\n",
        "    n = len(sorted_marks) \n",
        "    if n%2==0:\n",
        "       return (sorted_marks[int(n/2)-1]+sorted_marks[int(n/2)])/2\n",
        "    else:\n",
        "       return sorted_marks[int(n/2)]\n",
        "\n",
        "def mode(marks):\n",
        "    count_dict = dict.fromkeys(set(marks),0)\n",
        "    for mark in marks:\n",
        "       count_dict[mark]+=1\n",
        "    values = list(count_dict.values())\n",
        "    keys = list(count_dict.keys())\n",
        "    return keys[values.index(max(values))]\n",
        " \n",
        "print(f'Mean:{mean(marks)},Median:{median(marks)},Mode:{mode(marks)}')"
      ],
      "execution_count": 2,
      "outputs": [
        {
          "output_type": "stream",
          "text": [
            "Mean:6.85,Median:7.0,Mode:7\n"
          ],
          "name": "stdout"
        }
      ]
    },
    {
      "cell_type": "markdown",
      "metadata": {
        "id": "gTDA-zuLrypQ"
      },
      "source": [
        "###Problem Statement 2:\n",
        "The number of calls from motorists per day for roadside service was recorded for a\n",
        "particular month:\n",
        "#####28, 122, 217, 130, 120, 86, 80, 90, 140, 120, 70, 40, 145, 113, 90, 68, 174, 194, 170,100, 75, 104, 97, 75, 123, 100, 75, 104, 97, 75, 123, 100, 89, 120, 109"
      ]
    },
    {
      "cell_type": "code",
      "metadata": {
        "colab": {
          "base_uri": "https://localhost:8080/"
        },
        "id": "kMSF4Pv8rxBW",
        "outputId": "8003e1c3-2ff8-47dd-e719-90e35cb99b5c"
      },
      "source": [
        "marks = [28, 122, 217, 130, 120, 86, 80, 90, 140, 120, 70, 40, 145, 113, 90, 68, 174, 194, 170,100, 75, 104, 97, 75, 123, 100, 75, 104, 97, 75, 123, 100, 89, 120, 109]\n",
        "print(f'Mean:{mean(marks)}, Median:{median(marks)}, Mode:{mode(marks)}')"
      ],
      "execution_count": 3,
      "outputs": [
        {
          "output_type": "stream",
          "text": [
            "Mean:107.51428571428572, Median:100, Mode:75\n"
          ],
          "name": "stdout"
        }
      ]
    },
    {
      "cell_type": "markdown",
      "metadata": {
        "id": "rfhszjP_zMrs"
      },
      "source": [
        "### Problem Statement 3:\n",
        "The number of times I go to the gym in weekdays, are given below along with its\n",
        "associated probability:\n",
        "#####x = 0, 1, 2, 3, 4, 5\n",
        "#####f(x) = 0.09, 0.15, 0.40, 0.25, 0.10, 0.01\n",
        "Calculate the mean no. of workouts in a week. Also evaluate the variance involved in it."
      ]
    },
    {
      "cell_type": "code",
      "metadata": {
        "colab": {
          "base_uri": "https://localhost:8080/"
        },
        "id": "I4cvbuWdyB4r",
        "outputId": "052bbc8c-fdae-4fda-9bb2-1cbb7996394f"
      },
      "source": [
        "x = [0, 1, 2, 3, 4, 5]\n",
        "fx = [0.09, 0.15, 0.40, 0.25, 0.10, 0.01]\n",
        "\n",
        "def probability_mean(x,fx):\n",
        "    return np.dot(x,fx)/len(x)\n",
        "def probability_variance(x,fx):\n",
        "    mu = probability_mean(x,fx)\n",
        "    sigma_sqr = np.dot((x-mu)**2,fx)/len(x)\n",
        "    return sigma_sqr \n",
        "\n",
        "print(f'Mean:{probability_mean(x,fx)},Variance:{probability_variance(x,fx)}')"
      ],
      "execution_count": 4,
      "outputs": [
        {
          "output_type": "stream",
          "text": [
            "Mean:0.35833333333333334,Variance:0.7395949074074074\n"
          ],
          "name": "stdout"
        }
      ]
    },
    {
      "cell_type": "markdown",
      "metadata": {
        "id": "ZuPLjWmS3kXy"
      },
      "source": [
        "### Problem Statement 4 & 9:\n",
        "Let the continuous random variable D denote the diameter of the hole drilled in an\n",
        "aluminum sheet. The target diameter to be achieved is 12.5mm. Random\n",
        "disturbances in the process often result in inaccuracy.\n",
        "Historical data shows that the distribution of D can be modelled by the \n",
        "##### PDF (d) = 20e−20(d−12.5), d ≥ 12.5. \n",
        "If a part with diameter > 12.6 mm needs to be scrapped,\n",
        "what is the proportion of those parts? What is the CDF when the diameter is of 11 mm? What is your conclusion regarding the proportion of scraps?"
      ]
    },
    {
      "cell_type": "code",
      "metadata": {
        "colab": {
          "base_uri": "https://localhost:8080/"
        },
        "id": "gxC0WTUr1vDu",
        "outputId": "174bef8f-27df-4678-fdaa-1ae72ccf9e66"
      },
      "source": [
        "x = Symbol('x')\n",
        "def cdf(d):\n",
        "  if d>12.5:\n",
        "     return integrate(20*exp(-20*(x-12.5)),(x,(d,'oo')))\n",
        "  else:\n",
        "     return 0\n",
        "scraped_proportion = cdf(12.6)\n",
        "cdf_diameter_11 = cdf(11)\n",
        "print(f'Portion that needs to be scrapped: {scraped_proportion}, CDF when diameter is 11: {cdf_diameter_11}')"
      ],
      "execution_count": 5,
      "outputs": [
        {
          "output_type": "stream",
          "text": [
            "Portion that needs to be scrapped: 0.135335283236609, CDF when diameter is 11: 0\n"
          ],
          "name": "stdout"
        }
      ]
    },
    {
      "cell_type": "markdown",
      "metadata": {
        "id": "p4bRYH5S7Plj"
      },
      "source": [
        "Proportion of scraps reveal that if we were to make 100 drills into the aluminium sheet, only 14 drills would be of diameter greater than 12.6mm."
      ]
    },
    {
      "cell_type": "markdown",
      "metadata": {
        "id": "7m7L1zvs8P75"
      },
      "source": [
        "### Problem Statement 5:\n",
        "\n",
        "A company manufactures LED bulbs with a faulty rate of 30%. If I randomly select 6\n",
        "chosen LEDs, what is the probability of having 2 faulty LEDs in my sample?\n",
        "Calculate the average value of this process. Also evaluate the standard deviation\n",
        "associated with it."
      ]
    },
    {
      "cell_type": "markdown",
      "metadata": {
        "id": "uGSMFn7S8cgE"
      },
      "source": [
        "Manufacturing of products occurs in large batches so the number of items is very high and probability of occurance of detective items is close to 0. So, the probability distribution curve follows poisson distribution."
      ]
    },
    {
      "cell_type": "code",
      "metadata": {
        "id": "L8u7YrFp7Nn7",
        "colab": {
          "base_uri": "https://localhost:8080/"
        },
        "outputId": "9cb65efc-ceec-4485-d830-74398b9a418b"
      },
      "source": [
        "def pmf(a,k):\n",
        "   return exp(-a)*a**k/factorial(k)\n",
        "faulty_rate = 0.3\n",
        "sample = 6\n",
        "a = sample*faulty_rate\n",
        "probability = pmf(a,2)\n",
        "mean = a\n",
        "variance = a\n",
        "std_dev = np.sqrt(variance)\n",
        "print(f'probability of having 2 defective bulbs in a ramdom sample of 6: {probability},mean: {mean},standard deviation: {std_dev}')"
      ],
      "execution_count": 6,
      "outputs": [
        {
          "output_type": "stream",
          "text": [
            "probability of having 2 defective bulbs in a ramdom sample of 6: 0.267784198918970,mean: 1.7999999999999998,standard deviation: 1.3416407864998738\n"
          ],
          "name": "stdout"
        }
      ]
    },
    {
      "cell_type": "markdown",
      "metadata": {
        "id": "i6v0YUJCNQc3"
      },
      "source": [
        "### Problem Statement 6:\n",
        "Gaurav and Barakha are both preparing for entrance exams. Gaurav attempts to\n",
        "solve 8 questions per day with a correction rate of 75%, while Barakha averages\n",
        "around 12 questions per day with a correction rate of 45%. What is the probability\n",
        "that each of them will solve 5 questions correctly? What happens in cases of 4 and 6\n",
        "correct solutions? What do you infer from it? What are the two main governing\n",
        "factors affecting their ability to solve questions correctly? Give a pictorial\n",
        "representation of the same to validate your answer."
      ]
    },
    {
      "cell_type": "code",
      "metadata": {
        "colab": {
          "base_uri": "https://localhost:8080/"
        },
        "id": "42DQ3IoZNP_Y",
        "outputId": "b60dc815-d2ba-4172-a6f5-ce90a370a91f"
      },
      "source": [
        "#For Gaurav\n",
        "gv_n_questions = 8\n",
        "correction_rate = 0.75\n",
        "incorrect_rate = 1-correction_rate\n",
        "a_gv = gv_n_questions*incorrect_rate\n",
        "gv_prob_4_q_correct = pmf(a_gv,gv_n_questions-4)\n",
        "gv_prob_5_q_correct = pmf(a_gv,gv_n_questions-5)\n",
        "gv_prob_6_q_correct = pmf(a_gv,gv_n_questions-6)\n",
        "\n",
        "#For Barakha\n",
        "br_n_questions = 12\n",
        "correction_rate = 0.45\n",
        "incorrect_rate = 1-correction_rate\n",
        "a_br = br_n_questions*incorrect_rate\n",
        "br_prob_4_q_correct = pmf(a_br,br_n_questions-4)\n",
        "br_prob_5_q_correct = pmf(a_br,br_n_questions-5)\n",
        "br_prob_6_q_correct = pmf(a_br,br_n_questions-6)\n",
        "\n",
        "print(f'Probability of 4 questions correctly for Gaurav:{gv_prob_4_q_correct} and 4 for Barakha:{br_prob_4_q_correct}')\n",
        "print(f'Probability of 5 questions correctly for Gaurav:{gv_prob_5_q_correct} and 5 for Barakha:{br_prob_5_q_correct}')\n",
        "print(f'Probability of 6 questions correctly for Gaurav:{gv_prob_6_q_correct} and 6 for Barakha:{br_prob_6_q_correct}')"
      ],
      "execution_count": 7,
      "outputs": [
        {
          "output_type": "stream",
          "text": [
            "Probability of 4 questions correctly for Gaurav:0.0902235221577418 and 4 for Barakha:0.121475132189648\n",
            "Probability of 5 questions correctly for Gaurav:0.180447044315484 and 5 for Barakha:0.147242584472300\n",
            "Probability of 6 questions correctly for Gaurav:0.270670566473225 and 6 for Barakha:0.156166377470622\n"
          ],
          "name": "stdout"
        }
      ]
    },
    {
      "cell_type": "code",
      "metadata": {
        "colab": {
          "base_uri": "https://localhost:8080/",
          "height": 296
        },
        "id": "MxGZEKkUegG_",
        "outputId": "c9c2f1dd-623c-4fde-8246-74f510fb13f3"
      },
      "source": [
        "barakha = []\n",
        "gaurav = []\n",
        "for x in range(9):\n",
        "    barakha.append(pmf(a_br,br_n_questions-x))\n",
        "    gaurav.append(pmf(a_gv,gv_n_questions-x))\n",
        "plt.plot(barakha)\n",
        "plt.plot(gaurav)\n",
        "plt.xlabel('correctly solved questions')\n",
        "plt.ylabel('probability')\n",
        "plt.legend(['Barakha','Gaurav'])"
      ],
      "execution_count": 8,
      "outputs": [
        {
          "output_type": "execute_result",
          "data": {
            "text/plain": [
              "<matplotlib.legend.Legend at 0x7effdf20a590>"
            ]
          },
          "metadata": {
            "tags": []
          },
          "execution_count": 8
        },
        {
          "output_type": "display_data",
          "data": {
            "image/png": "[encoded data removed]",
            "text/plain": [
              "<Figure size 432x288 with 1 Axes>"
            ]
          },
          "metadata": {
            "tags": [],
            "needs_background": "light"
          }
        }
      ]
    },
    {
      "cell_type": "markdown",
      "metadata": {
        "id": "TxwBJCTDX9c2"
      },
      "source": [
        "So, it can be inferred that probability of solving some x questions depends on two factors: **number of questions** and **correction rate**. Gaurav solves less no. of questions than Barakha but has very less incorrect solving rate than Barakha. So, we see that probability of solving no. of questions less than 4 correctly, Barakha has upper hand due to his/her ability of solving more no. of questions than Gaurav. But as the no. of questions to be solved correctly increase,Gaurav's probability increases drastically due to very low incorrect solving rate. We can clearly see the difference in probability between Gaurav and Barakha increasing drastically with more no. of correctly solved questions. "
      ]
    },
    {
      "cell_type": "markdown",
      "metadata": {
        "id": "Hjy91VNOcMV7"
      },
      "source": [
        "### Problem Statement 7:\n",
        "\n",
        "Customers arrive at a rate of 72 per hour to my shop. What is the probability of k\n",
        "customers arriving in 4 minutes? a) 5 customers, b) not more than 3 customers, c)\n",
        "more than 3 customers. Give a pictorial representation of the same to validate your\n",
        "answer."
      ]
    },
    {
      "cell_type": "code",
      "metadata": {
        "colab": {
          "base_uri": "https://localhost:8080/",
          "height": 41
        },
        "id": "CIxtDZyFT5bN",
        "outputId": "b5b4ab10-5842-49bb-f47c-fbd1c0ef2ce6"
      },
      "source": [
        "arrival_rate = 72/60\n",
        "time = 4\n",
        "a = arrival_rate*time\n",
        "k = Symbol('k')\n",
        "display(Math(f'Probability \\; of \\; k \\; customers \\; arriving \\; in \\; 4 \\; minutes: p(k,4) = {latex(pmf(a,k))}'))"
      ],
      "execution_count": 9,
      "outputs": [
        {
          "output_type": "display_data",
          "data": {
            "text/latex": "$$Probability \\; of \\; k \\; customers \\; arriving \\; in \\; 4 \\; minutes: p(k,4) = \\frac{0.00822974704902003 \\cdot 4.8^{k}}{k!}$$",
            "text/plain": [
              "<IPython.core.display.Math object>"
            ]
          },
          "metadata": {
            "tags": []
          }
        }
      ]
    },
    {
      "cell_type": "code",
      "metadata": {
        "colab": {
          "base_uri": "https://localhost:8080/",
          "height": 347
        },
        "id": "GGAcRBl4oVIS",
        "outputId": "11fabb7e-68ba-458c-97e8-74ad628ceb6c"
      },
      "source": [
        "print('Probability of 5 customers in 4 minutes: ',pmf(a,5))\n",
        "result = 0\n",
        "for k in range(4):\n",
        "    result+= pmf(a,k)\n",
        "print('Probability of not more than 3 customers in 4 minutes: ',result)\n",
        "print('Probability of more than 3 customers in 4 minutes: ',1-result)\n",
        "plt.bar(['5','not more than 3','more than 3'],[pmf(a,5),result,1-result])\n",
        "plt.xlabel('customers')\n",
        "plt.ylabel('probability')"
      ],
      "execution_count": 10,
      "outputs": [
        {
          "output_type": "stream",
          "text": [
            "Probability of 5 customers in 4 minutes:  0.174747683643883\n",
            "Probability of not more than 3 customers in 4 minutes:  0.294229916496564\n",
            "Probability of more than 3 customers in 4 minutes:  0.705770083503436\n"
          ],
          "name": "stdout"
        },
        {
          "output_type": "execute_result",
          "data": {
            "text/plain": [
              "Text(0, 0.5, 'probability')"
            ]
          },
          "metadata": {
            "tags": []
          },
          "execution_count": 10
        },
        {
          "output_type": "display_data",
          "data": {
            "image/png": "[encoded data removed]",
            "text/plain": [
              "<Figure size 432x288 with 1 Axes>"
            ]
          },
          "metadata": {
            "tags": [],
            "needs_background": "light"
          }
        }
      ]
    },
    {
      "cell_type": "markdown",
      "metadata": {
        "id": "fY83TzzNtW7L"
      },
      "source": [
        "### Problem Statement 8:\n",
        "\n",
        "I work as a data analyst in Aeon Learning Pvt. Ltd. After analyzing data, I make\n",
        "reports, where I have the efficiency of entering 77 words per minute with 6 errors per\n",
        "hour. What is the probability that I will commit 2 errors in a 455-word financial report?\n",
        "What happens when the no. of words increases/decreases (in case of 1000 words,\n",
        "255 words)?\n",
        "How is the λ affected?\n",
        "How does it influence the PMF?\n",
        "Give a pictorial representation of the same to validate your answer."
      ]
    },
    {
      "cell_type": "code",
      "metadata": {
        "colab": {
          "base_uri": "https://localhost:8080/",
          "height": 351
        },
        "id": "d9g_NMjNtNvN",
        "outputId": "0bb6eef2-c400-4673-84fb-4abeb4fe695d"
      },
      "source": [
        "efficiency = 77\n",
        "error_rate = 6/60\n",
        "n_words_list = [255,355,455,555,655,755,855,955,1055]\n",
        "lamda_list = []\n",
        "probability_list = []\n",
        "plt.figure(figsize=(10,5))\n",
        "for n_words in n_words_list:\n",
        "    avg_error_per_words = error_rate/efficiency\n",
        "    lamda = avg_error_per_words*n_words\n",
        "    lamda_list.append(lamda)\n",
        "    probability_list.append(pmf(lamda,2))\n",
        "\n",
        "plt.subplot(1,2,1)\n",
        "plt.plot(n_words_list,lamda_list)\n",
        "plt.xlabel('n words')\n",
        "plt.ylabel('lambda')\n",
        "\n",
        "plt.subplot(1,2,2)\n",
        "plt.plot(n_words_list,probability_list)\n",
        "plt.xlabel('n words')\n",
        "plt.ylabel('probability')"
      ],
      "execution_count": 11,
      "outputs": [
        {
          "output_type": "execute_result",
          "data": {
            "text/plain": [
              "Text(0, 0.5, 'probability')"
            ]
          },
          "metadata": {
            "tags": []
          },
          "execution_count": 11
        },
        {
          "output_type": "display_data",
          "data": {
            "image/png": "[encoded data removed]",
            "text/plain": [
              "<Figure size 720x360 with 2 Axes>"
            ]
          },
          "metadata": {
            "tags": [],
            "needs_background": "light"
          }
        }
      ]
    },
    {
      "cell_type": "markdown",
      "metadata": {
        "id": "BIxNA8VvIokJ"
      },
      "source": [
        "### Problem Statement 10:\n",
        "Please compute the following:\n",
        "* P(Z > 1.26), . P(Z < −0.86), P(Z > −1.37), P(−1.25 < Z < 0.37), . P(Z ≤ −4.6)\n",
        "* Find the value z such that P(Z > z) = 0.05\n",
        "* Find the value of z such that P(−z < Z < z) = 0.99"
      ]
    },
    {
      "cell_type": "code",
      "metadata": {
        "id": "nKzUmjPjzowU"
      },
      "source": [
        "def P(x,mean=0,std_dev = 1):\n",
        "   return exp(-(1/2)*((x-mean)/std_dev)**2)/(std_dev*np.sqrt(2*np.pi))"
      ],
      "execution_count": 12,
      "outputs": []
    },
    {
      "cell_type": "code",
      "metadata": {
        "id": "-w83JrfN-6KJ"
      },
      "source": [
        "def find_z(value,probability_type):\n",
        "    z = Symbol('z')\n",
        "    solution_arr = []\n",
        "    if probability_type=='P(Z>z)':\n",
        "        Z = np.linspace(-4,4,100)\n",
        "        for z1 in Z:\n",
        "          soln = integrate(P(z),(z,z1,'oo'))\n",
        "          solution_arr.append(soln.evalf())\n",
        "    \n",
        "    elif probability_type=='P(-z<Z<z)':\n",
        "        Z = np.linspace(0,4,100) \n",
        "        for z1 in Z:\n",
        "          soln = integrate(P(z),(z,-z1,z1))\n",
        "          solution_arr.append(soln.evalf())\n",
        "    else:\n",
        "        print('Only P(Z>z) and P(-z<Z<z) probability type are allowed.')\n",
        "    solution_arr = np.array(solution_arr)\n",
        "    z = Z[np.argmin(np.abs(solution_arr-value))]\n",
        "    return z"
      ],
      "execution_count": 13,
      "outputs": []
    },
    {
      "cell_type": "code",
      "metadata": {
        "colab": {
          "base_uri": "https://localhost:8080/"
        },
        "id": "FNaMBJXmKqCO",
        "outputId": "7ea7c9b1-36a5-4419-e6cc-6d01872be974"
      },
      "source": [
        "z = Symbol('z')\n",
        "print('P(z>1.26) =',integrate(P(z),(z,1.26,'oo')).evalf())\n",
        "print('P(z<-0.86) =',integrate(P(z),(z,'-oo',-0.86)).evalf())\n",
        "print('P(z>-1.37) =',integrate(P(z),(z,-1.37,'oo')).evalf())\n",
        "print('P(z<=-4.6) =',integrate(P(z),(z,'-oo',-4.6)).evalf())\n",
        "print('For P(Z>z) = 0.05, z =',find_z(0.05,'P(Z>z)'))\n",
        "print('For P(-z<Z<z) = 0.99, z =',find_z(0.99,'P(-z<Z<z)'))"
      ],
      "execution_count": 14,
      "outputs": [
        {
          "output_type": "stream",
          "text": [
            "P(z>1.26) = 0.103834681121300\n",
            "P(z<-0.86) = 0.194894521251808\n",
            "P(z>-1.37) = 0.914656549178033\n",
            "P(z<=-4.6) = 2.11245470245799e-6\n",
            "For P(Z>z) = 0.05, z = 1.6565656565656575\n",
            "For P(-z<Z<z) = 0.99, z = 2.585858585858586\n"
          ],
          "name": "stdout"
        }
      ]
    },
    {
      "cell_type": "markdown",
      "metadata": {
        "id": "Rl4LPDjNHXCi"
      },
      "source": [
        "### Problem Statement 11:\n",
        "\n",
        "The current flow in a copper wire follow a normal distribution with a mean of 10 mA\n",
        "and a variance of 4 (mA)2.\n",
        "What is the probability that a current measurement will exceed 13 mA? What is the\n",
        "probability that a current measurement is between 9 and 11mA? Determine the\n",
        "current measurement which has a probability of 0.98."
      ]
    },
    {
      "cell_type": "code",
      "metadata": {
        "id": "ibT9DN3wUefq"
      },
      "source": [
        "def find_current_range_centered_around_mean(value,mean,std_dev):\n",
        "    current_range = []   \n",
        "    solution_arr = []\n",
        "    X = np.linspace(0,mean,100)\n",
        "    x = Symbol('x')\n",
        "    for i in X:\n",
        "      soln = integrate(P(x,mean,std_dev),(x,mean-i,mean+i))\n",
        "      solution_arr.append(soln.evalf())\n",
        "      current_range.append((mean-i,mean+i))\n",
        "    solution_arr = np.array(solution_arr)\n",
        "    current_range = current_range[np.argmin(np.abs(solution_arr-value))]\n",
        "    return current_range"
      ],
      "execution_count": 15,
      "outputs": []
    },
    {
      "cell_type": "code",
      "metadata": {
        "colab": {
          "base_uri": "https://localhost:8080/"
        },
        "id": "rD6SbpiWHnU6",
        "outputId": "64803f46-99e8-4027-8e7b-c2816e315b7c"
      },
      "source": [
        "mean = 10\n",
        "variance = 4\n",
        "std_dev = np.sqrt(variance)\n",
        "x = Symbol('x')\n",
        "print('P(x>13) =',integrate(P(x,mean,std_dev),(x,13,'oo')).evalf())\n",
        "print('P(9<x<11) =',integrate(P(x,mean,std_dev),(x,9,11)).evalf())\n",
        "print('Current measurement range having probability = 0.98:',find_current_range_centered_around_mean(0.98,mean,std_dev))"
      ],
      "execution_count": 16,
      "outputs": [
        {
          "output_type": "stream",
          "text": [
            "P(x>13) = 0.0668072012688580\n",
            "P(9<x<11) = 0.382924922548026\n",
            "Current measurement range having probability = 0.98: (5.353535353535354, 14.646464646464647)\n"
          ],
          "name": "stdout"
        }
      ]
    },
    {
      "cell_type": "markdown",
      "metadata": {
        "id": "nXJBJ0aibPBa"
      },
      "source": [
        "### Problem Statement 12:\n",
        "\n",
        "The shaft in a piston has its diameter normally distributed with a mean of 0.2508 inch and a standard deviation of 0.0005 inch. The specifications of the shaft are 0.2500 ∓ 0.0015 inch. What proportion of shafts are in sync with the specifications? If the process is centered so that the mean is equal to the target value of 0.2500, what proportion of shafts conform to the new specifications? What is your conclusion from this experiment?"
      ]
    },
    {
      "cell_type": "markdown",
      "metadata": {
        "id": "RAi-fEMVmm5m"
      },
      "source": [
        "![](https://i.postimg.cc/J4ZWvfMQ/stats.jpg)\n",
        "Expection region"
      ]
    },
    {
      "cell_type": "code",
      "metadata": {
        "colab": {
          "base_uri": "https://localhost:8080/"
        },
        "id": "fSVSoA2fbaYr",
        "outputId": "012a5506-7a56-451c-9281-5f921bb349ff"
      },
      "source": [
        "print('Proportion of shafts in sync with the given specification:',integrate(P(x,0.2508,0.0005),(x,0.2500-0.0015,0.2500+0.0015)).evalf())\n",
        "result = integrate(P(x,0.2508,0.0005),(x,'-oo',0.2500)).evalf()+integrate(P(x,0.2500,0.0005),(x,0.2500,'oo')).evalf()\n",
        "print('For mean = 0.2500, proportion of shafts conforming to the new specifications',result)"
      ],
      "execution_count": 17,
      "outputs": [
        {
          "output_type": "stream",
          "text": [
            "Proportion of shafts in sync with the given specification: 0.919241228311519\n",
            "For mean = 0.2500, proportion of shafts conforming to the new specifications 0.554799291699553\n"
          ],
          "name": "stdout"
        }
      ]
    },
    {
      "cell_type": "markdown",
      "metadata": {
        "id": "C0TW8G6fpU1O"
      },
      "source": [
        "We infer that for given specification of shafts, the probability of region obtained in sync with the original curve is greater than region with desired mean.  "
      ]
    }
  ]
}