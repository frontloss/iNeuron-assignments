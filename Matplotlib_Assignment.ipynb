{
  "nbformat": 4,
  "nbformat_minor": 0,
  "metadata": {
    "colab": {
      "name": "Matplotlib Assignment.ipynb",
      "provenance": [],
      "authorship_tag": "ABX9TyOSvBRX0rqliL1sazHB9P/y",
      "include_colab_link": true
    },
    "kernelspec": {
      "name": "python3",
      "display_name": "Python 3"
    }
  },
  "cells": [
    {
      "cell_type": "markdown",
      "metadata": {
        "id": "view-in-github",
        "colab_type": "text"
      },
      "source": [
        "<a href=\"https://colab.research.google.com/github/frontloss/iNeuron-assignments/blob/master/Matplotlib_Assignment.ipynb\" target=\"_parent\"><img src=\"https://colab.research.google.com/assets/colab-badge.svg\" alt=\"Open In Colab\"/></a>"
      ]
    },
    {
      "cell_type": "markdown",
      "metadata": {
        "id": "5QQRpLJOUnuo"
      },
      "source": [
        "### Import required libraries"
      ]
    },
    {
      "cell_type": "code",
      "metadata": {
        "id": "xxnW08Nbe46L",
        "colab": {
          "base_uri": "https://localhost:8080/"
        },
        "outputId": "bbc9f0fb-d83f-419a-8f05-b23d0ede44f1"
      },
      "source": [
        "import matplotlib.pyplot as plt\r\n",
        "from statsmodels.tsa.holtwinters import SimpleExpSmoothing\r\n",
        "from scipy import optimize\r\n",
        "import numpy as np"
      ],
      "execution_count": 1,
      "outputs": [
        {
          "output_type": "stream",
          "text": [
            "/usr/local/lib/python3.6/dist-packages/statsmodels/tools/_testing.py:19: FutureWarning: pandas.util.testing is deprecated. Use the functions in the public API at pandas.testing instead.\n",
            "  import pandas.util.testing as tm\n"
          ],
          "name": "stderr"
        }
      ]
    },
    {
      "cell_type": "code",
      "metadata": {
        "id": "MS9irbKR-FiR"
      },
      "source": [
        "max_temperature = np.array([39,41,43,47,49,51,45,38,37,29,27,25])\r\n",
        "min_temperature = np.array([21,23,27,28,32,35,31,28,21,19,17,18])\r\n",
        "month = np.arange(1,13)"
      ],
      "execution_count": 2,
      "outputs": []
    },
    {
      "cell_type": "markdown",
      "metadata": {
        "id": "AbkPPPkYO_f0"
      },
      "source": [
        "### Fitting using Simple Exponential Smoothing function."
      ]
    },
    {
      "cell_type": "markdown",
      "metadata": {
        "id": "7kvMFW4gQ5VR"
      },
      "source": [
        "An exponential smoothing function is basically a smoothed weighted average of previous time step value and current time step value through the smoothing factor of $\\alpha$ in the equation $s_{t} = \\alpha*x_t+ (1-\\alpha)*s_{t-1}$ and $s_0 = x_0$ where $0<\\alpha<1$."
      ]
    },
    {
      "cell_type": "code",
      "metadata": {
        "colab": {
          "base_uri": "https://localhost:8080/",
          "height": 282
        },
        "id": "ANBkb-gGY2pa",
        "outputId": "1702191d-365c-4f24-a348-9f91f00b5c2b"
      },
      "source": [
        "max_temp_model = SimpleExpSmoothing(max_temperature)\r\n",
        "min_temp_model = SimpleExpSmoothing(min_temperature)\r\n",
        "max_temp_model_fit = max_temp_model.fit()\r\n",
        "min_temp_model_fit = min_temp_model.fit()\r\n",
        "plt.scatter(month,max_temperature)\r\n",
        "plt.plot(max_temp_model_fit.fittedvalues)\r\n",
        "plt.scatter(month,min_temperature)\r\n",
        "plt.plot(min_temp_model_fit.fittedvalues)"
      ],
      "execution_count": 3,
      "outputs": [
        {
          "output_type": "execute_result",
          "data": {
            "text/plain": [
              "[<matplotlib.lines.Line2D at 0x7f85a51c3940>]"
            ]
          },
          "metadata": {
            "tags": []
          },
          "execution_count": 3
        },
        {
          "output_type": "display_data",
          "data": {
            "image/png": "[encoded data removed]",
            "text/plain": [
              "<Figure size 432x288 with 1 Axes>"
            ]
          },
          "metadata": {
            "tags": [],
            "needs_background": "light"
          }
        }
      ]
    },
    {
      "cell_type": "markdown",
      "metadata": {
        "id": "xu4D5MMjUw5s"
      },
      "source": [
        "### Using sinusoidal waveform\r\n",
        "We will be using a sinusoidal function of the function $y = Asin(Bt+C)+D$ to fit the curve to the given data."
      ]
    },
    {
      "cell_type": "code",
      "metadata": {
        "id": "a9czNMfbuTGI"
      },
      "source": [
        "def func(x,a,b,c,d):\r\n",
        "    return a*np.sin(b*x+c)+d"
      ],
      "execution_count": 4,
      "outputs": []
    },
    {
      "cell_type": "code",
      "metadata": {
        "id": "wTKd1YCi_tg-"
      },
      "source": [
        "#finding the optimum coefficients\r\n",
        "min_temp_opt_params,_ = optimize.curve_fit(func,month,min_temperature)\r\n",
        "max_temp_opt_params,_ = optimize.curve_fit(func,month,max_temperature)"
      ],
      "execution_count": 5,
      "outputs": []
    },
    {
      "cell_type": "code",
      "metadata": {
        "id": "k57Go9QqDzNA"
      },
      "source": [
        "fitted_min_temperature = func(month,*min_temp_opt_params)\r\n",
        "fitted_max_temperature = func(month,*max_temp_opt_params)"
      ],
      "execution_count": 6,
      "outputs": []
    },
    {
      "cell_type": "code",
      "metadata": {
        "colab": {
          "base_uri": "https://localhost:8080/",
          "height": 282
        },
        "id": "HYo7NOy1C0Lm",
        "outputId": "958ec016-ec2a-424b-f176-09779005e908"
      },
      "source": [
        "plt.plot(month,fitted_min_temperature)\r\n",
        "plt.scatter(month,min_temperature)\r\n",
        "plt.plot(month,fitted_max_temperature)\r\n",
        "plt.scatter(month,max_temperature)"
      ],
      "execution_count": 8,
      "outputs": [
        {
          "output_type": "execute_result",
          "data": {
            "text/plain": [
              "<matplotlib.collections.PathCollection at 0x7f859a4474e0>"
            ]
          },
          "metadata": {
            "tags": []
          },
          "execution_count": 8
        },
        {
          "output_type": "display_data",
          "data": {
            "image/png": "[encoded data removed]",
            "text/plain": [
              "<Figure size 432x288 with 1 Axes>"
            ]
          },
          "metadata": {
            "tags": [],
            "needs_background": "light"
          }
        }
      ]
    }
  ]
}