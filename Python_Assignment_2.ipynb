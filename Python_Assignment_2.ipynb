{
  "nbformat": 4,
  "nbformat_minor": 0,
  "metadata": {
    "colab": {
      "name": "Python Assignment 2.ipynb",
      "provenance": [],
      "authorship_tag": "ABX9TyOElhSXw+M+fystkHXLn4NA",
      "include_colab_link": true
    },
    "kernelspec": {
      "name": "python3",
      "display_name": "Python 3"
    }
  },
  "cells": [
    {
      "cell_type": "markdown",
      "metadata": {
        "id": "view-in-github",
        "colab_type": "text"
      },
      "source": [
        "<a href=\"https://colab.research.google.com/github/frontloss/iNeuron-assignments/blob/master/Python_Assignment_2.ipynb\" target=\"_parent\"><img src=\"https://colab.research.google.com/assets/colab-badge.svg\" alt=\"Open In Colab\"/></a>"
      ]
    },
    {
      "cell_type": "markdown",
      "metadata": {
        "id": "7zmJqAvJPq1d",
        "colab_type": "text"
      },
      "source": [
        "### Program 1 solution"
      ]
    },
    {
      "cell_type": "code",
      "metadata": {
        "id": "4oUW70IVLEic",
        "colab_type": "code",
        "colab": {
          "base_uri": "https://localhost:8080/",
          "height": 182
        },
        "outputId": "95dd76da-7456-4ccb-f745-058c2a095940"
      },
      "source": [
        "def make_pattern(n):\n",
        "  import numpy as np\n",
        "  j=0\n",
        "  for i in range(n):\n",
        "    q = int(np.ceil(n/2))\n",
        "    if i<q:\n",
        "      print('*'*(i+1))\n",
        "    else:\n",
        "      j+=1\n",
        "      print('*'*(q-j))\n",
        "make_pattern(9)"
      ],
      "execution_count": 1,
      "outputs": [
        {
          "output_type": "stream",
          "text": [
            "*\n",
            "**\n",
            "***\n",
            "****\n",
            "*****\n",
            "****\n",
            "***\n",
            "**\n",
            "*\n"
          ],
          "name": "stdout"
        }
      ]
    },
    {
      "cell_type": "markdown",
      "metadata": {
        "id": "ddtHXfkhPzTV",
        "colab_type": "text"
      },
      "source": [
        "### Program 2 solution"
      ]
    },
    {
      "cell_type": "code",
      "metadata": {
        "id": "2mW52JYaMAol",
        "colab_type": "code",
        "colab": {
          "base_uri": "https://localhost:8080/",
          "height": 54
        },
        "outputId": "98118b1f-d731-413d-df5d-b54d50a0c85a"
      },
      "source": [
        "text = input('Enter text:')\n",
        "print('Reversed text',text[-1::-1])"
      ],
      "execution_count": 2,
      "outputs": [
        {
          "output_type": "stream",
          "text": [
            "Enter text:ineuron\n",
            "Reversed text norueni\n"
          ],
          "name": "stdout"
        }
      ]
    }
  ]
}