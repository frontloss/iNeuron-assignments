{
  "nbformat": 4,
  "nbformat_minor": 0,
  "metadata": {
    "colab": {
      "name": "Python Assignment 4.ipynb",
      "provenance": [],
      "authorship_tag": "ABX9TyNeLSInZERwsqp18pMjRGVd",
      "include_colab_link": true
    },
    "kernelspec": {
      "name": "python3",
      "display_name": "Python 3"
    }
  },
  "cells": [
    {
      "cell_type": "markdown",
      "metadata": {
        "id": "view-in-github",
        "colab_type": "text"
      },
      "source": [
        "<a href=\"https://colab.research.google.com/github/frontloss/iNeuron-assignments/blob/master/Python_Assignment_4.ipynb\" target=\"_parent\"><img src=\"https://colab.research.google.com/assets/colab-badge.svg\" alt=\"Open In Colab\"/></a>"
      ]
    },
    {
      "cell_type": "markdown",
      "metadata": {
        "id": "7zmJqAvJPq1d",
        "colab_type": "text"
      },
      "source": [
        "### Program 1.1 solution"
      ]
    },
    {
      "cell_type": "code",
      "metadata": {
        "id": "8MzYCpjjbdNu",
        "colab_type": "code",
        "colab": {}
      },
      "source": [
        "class Triangle:\n",
        "  def __init__(self,a,b,c):\n",
        "    self.a = a\n",
        "    self.b = b\n",
        "    self.c = c\n",
        "class Area(Triangle):\n",
        "  def half_perimeter(self):\n",
        "    return (self.a+self.b+self.c)/2\n",
        "  def area(self):\n",
        "    s = self.half_perimeter()\n",
        "    return (s*(s-self.a)*(s-self.b)*(s-self.c))**0.5"
      ],
      "execution_count": 1,
      "outputs": []
    },
    {
      "cell_type": "code",
      "metadata": {
        "id": "edktOFyW3rdM",
        "colab_type": "code",
        "colab": {
          "base_uri": "https://localhost:8080/",
          "height": 35
        },
        "outputId": "4b2bf810-3b64-4b29-cc01-dcaea9b2085c"
      },
      "source": [
        "area = Area(3,4,5)\n",
        "area.area()"
      ],
      "execution_count": 2,
      "outputs": [
        {
          "output_type": "execute_result",
          "data": {
            "text/plain": [
              "6.0"
            ]
          },
          "metadata": {
            "tags": []
          },
          "execution_count": 2
        }
      ]
    },
    {
      "cell_type": "markdown",
      "metadata": {
        "id": "ddtHXfkhPzTV",
        "colab_type": "text"
      },
      "source": [
        "### Program 1.2 solution"
      ]
    },
    {
      "cell_type": "code",
      "metadata": {
        "id": "2mW52JYaMAol",
        "colab_type": "code",
        "colab": {
          "base_uri": "https://localhost:8080/",
          "height": 35
        },
        "outputId": "2f7344ca-50a6-4a8c-abd0-28872ec12068"
      },
      "source": [
        "def filter_long_words(word_seq,n):\n",
        "    return [word for word in word_seq if len(word)>n]\n",
        "word_list = ['iNeuron','Tesla','OpenAI','SpaceX','Facebook','Apple','Algoix']\n",
        "filter_long_words(word_list,6)"
      ],
      "execution_count": 3,
      "outputs": [
        {
          "output_type": "execute_result",
          "data": {
            "text/plain": [
              "['iNeuron', 'Facebook']"
            ]
          },
          "metadata": {
            "tags": []
          },
          "execution_count": 3
        }
      ]
    },
    {
      "cell_type": "markdown",
      "metadata": {
        "id": "XkUqeNBNqoBZ",
        "colab_type": "text"
      },
      "source": [
        "### Program 2.1 solution"
      ]
    },
    {
      "cell_type": "code",
      "metadata": {
        "id": "Sz3oeb-4kAW9",
        "colab_type": "code",
        "colab": {
          "base_uri": "https://localhost:8080/",
          "height": 35
        },
        "outputId": "02e6e6fc-a2c9-4e70-93f6-1bc8057f244f"
      },
      "source": [
        "word_list = ['ab','cde','erty']\n",
        "def word_length(seq):\n",
        "  return list(map(lambda x: len(x), seq))\n",
        "word_length(word_list)"
      ],
      "execution_count": 4,
      "outputs": [
        {
          "output_type": "execute_result",
          "data": {
            "text/plain": [
              "[2, 3, 4]"
            ]
          },
          "metadata": {
            "tags": []
          },
          "execution_count": 4
        }
      ]
    },
    {
      "cell_type": "markdown",
      "metadata": {
        "id": "KxzDOrq02Kf2",
        "colab_type": "text"
      },
      "source": [
        "### Program 2.2 solution"
      ]
    },
    {
      "cell_type": "code",
      "metadata": {
        "id": "cafkdZHI2Omx",
        "colab_type": "code",
        "colab": {
          "base_uri": "https://localhost:8080/",
          "height": 54
        },
        "outputId": "df330361-0241-4c59-e0a1-e1f0989f5670"
      },
      "source": [
        "def isvowel(x):\n",
        "  return x in ['a','e','i','o','u']\n",
        "print('a:',isvowel('a'))\n",
        "print('b:',isvowel('b'))"
      ],
      "execution_count": 5,
      "outputs": [
        {
          "output_type": "stream",
          "text": [
            "a: True\n",
            "b: False\n"
          ],
          "name": "stdout"
        }
      ]
    }
  ]
}