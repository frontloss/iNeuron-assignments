{
  "nbformat": 4,
  "nbformat_minor": 0,
  "metadata": {
    "colab": {
      "name": "Python Assignment 3.ipynb",
      "provenance": [],
      "authorship_tag": "ABX9TyObh24sBCiWlH82i25ZyQk5",
      "include_colab_link": true
    },
    "kernelspec": {
      "name": "python3",
      "display_name": "Python 3"
    }
  },
  "cells": [
    {
      "cell_type": "markdown",
      "metadata": {
        "id": "view-in-github",
        "colab_type": "text"
      },
      "source": [
        "<a href=\"https://colab.research.google.com/github/frontloss/iNeuron-assignments/blob/master/Python_Assignment_3.ipynb\" target=\"_parent\"><img src=\"https://colab.research.google.com/assets/colab-badge.svg\" alt=\"Open In Colab\"/></a>"
      ]
    },
    {
      "cell_type": "markdown",
      "metadata": {
        "id": "7zmJqAvJPq1d",
        "colab_type": "text"
      },
      "source": [
        "### Program 1.1 solution"
      ]
    },
    {
      "cell_type": "code",
      "metadata": {
        "id": "8MzYCpjjbdNu",
        "colab_type": "code",
        "colab": {
          "base_uri": "https://localhost:8080/",
          "height": 35
        },
        "outputId": "417b3e2b-637c-4c9d-e277-1861b264162f"
      },
      "source": [
        "def myreduce(func,seq):\n",
        "  return func(seq)\n",
        "\n",
        "#Example of myreduce\n",
        "lst = [1,2,3,4,5]\n",
        "def sum(seq):\n",
        "  result = 0\n",
        "  for i in seq:\n",
        "    result+=i\n",
        "  return result\n",
        "myreduce(sum,lst)"
      ],
      "execution_count": 1,
      "outputs": [
        {
          "output_type": "execute_result",
          "data": {
            "text/plain": [
              "15"
            ]
          },
          "metadata": {
            "tags": []
          },
          "execution_count": 1
        }
      ]
    },
    {
      "cell_type": "markdown",
      "metadata": {
        "id": "ddtHXfkhPzTV",
        "colab_type": "text"
      },
      "source": [
        "### Program 1.2 solution"
      ]
    },
    {
      "cell_type": "code",
      "metadata": {
        "id": "2mW52JYaMAol",
        "colab_type": "code",
        "colab": {
          "base_uri": "https://localhost:8080/",
          "height": 35
        },
        "outputId": "dfdffb6a-c89b-48b3-cb84-491884d6e1b9"
      },
      "source": [
        "def myfilter(func,seq):\n",
        "    result = []\n",
        "    for i in seq:\n",
        "      if func(i):\n",
        "        result.append(i)\n",
        "    return result\n",
        "\n",
        "#Example\n",
        "seq = list(range(10))\n",
        "def isprime(x): \n",
        "    bool_res = True\n",
        "    if x==1 or x==0:\n",
        "      bool_res = False\n",
        "    elif x==2:\n",
        "      bool_res = True\n",
        "    else:\n",
        "      for i in range(2,x):\n",
        "          if x%i == 0:\n",
        "            bool_res = False\n",
        "            break\n",
        "    return bool_res\n",
        "\n",
        "#Testing Function\n",
        "filtered = myfilter(isprime, seq)\n",
        "print(filtered)  "
      ],
      "execution_count": 2,
      "outputs": [
        {
          "output_type": "stream",
          "text": [
            "[2, 3, 5, 7]\n"
          ],
          "name": "stdout"
        }
      ]
    },
    {
      "cell_type": "markdown",
      "metadata": {
        "id": "XkUqeNBNqoBZ",
        "colab_type": "text"
      },
      "source": [
        "### Program 2 solution"
      ]
    },
    {
      "cell_type": "code",
      "metadata": {
        "id": "Sz3oeb-4kAW9",
        "colab_type": "code",
        "colab": {
          "base_uri": "https://localhost:8080/",
          "height": 109
        },
        "outputId": "fb77a4d3-135b-4065-cb73-a9c7fe396c75"
      },
      "source": [
        "n = 4\n",
        "characters = ['x','y','z']\n",
        "first_list = []\n",
        "operation = [first_list.extend([ch*i for i in range(1,n+1)]) for ch in characters]\n",
        "print(first_list)\n",
        "second_list = sorted(first_list,key=len)\n",
        "print(second_list)\n",
        "third_list = [[i] for i in range(2,7)]\n",
        "print(third_list)\n",
        "fourth_list = [[i for i in range(num,num+4)] for num in range(2,6)]\n",
        "print(fourth_list)\n",
        "fifth_list = [(x,y) for y in range(1,4) for x in range(1,4)]\n",
        "print(fifth_list)"
      ],
      "execution_count": 3,
      "outputs": [
        {
          "output_type": "stream",
          "text": [
            "['x', 'xx', 'xxx', 'xxxx', 'y', 'yy', 'yyy', 'yyyy', 'z', 'zz', 'zzz', 'zzzz']\n",
            "['x', 'y', 'z', 'xx', 'yy', 'zz', 'xxx', 'yyy', 'zzz', 'xxxx', 'yyyy', 'zzzz']\n",
            "[[2], [3], [4], [5], [6]]\n",
            "[[2, 3, 4, 5], [3, 4, 5, 6], [4, 5, 6, 7], [5, 6, 7, 8]]\n",
            "[(1, 1), (2, 1), (3, 1), (1, 2), (2, 2), (3, 2), (1, 3), (2, 3), (3, 3)]\n"
          ],
          "name": "stdout"
        }
      ]
    }
  ]
}