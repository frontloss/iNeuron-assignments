{
  "nbformat": 4,
  "nbformat_minor": 0,
  "metadata": {
    "colab": {
      "name": "Assignment exception handling.ipynb",
      "provenance": [],
      "authorship_tag": "ABX9TyMNq3tbubpt1b8QqniB2SwV",
      "include_colab_link": true
    },
    "kernelspec": {
      "name": "python3",
      "display_name": "Python 3"
    }
  },
  "cells": [
    {
      "cell_type": "markdown",
      "metadata": {
        "id": "view-in-github",
        "colab_type": "text"
      },
      "source": [
        "<a href=\"https://colab.research.google.com/github/frontloss/iNeuron-assignments/blob/master/Assignment_exception_handling.ipynb\" target=\"_parent\"><img src=\"https://colab.research.google.com/assets/colab-badge.svg\" alt=\"Open In Colab\"/></a>"
      ]
    },
    {
      "cell_type": "markdown",
      "metadata": {
        "id": "7zmJqAvJPq1d",
        "colab_type": "text"
      },
      "source": [
        "### Program 1 solution"
      ]
    },
    {
      "cell_type": "code",
      "metadata": {
        "id": "2mW52JYaMAol",
        "colab_type": "code",
        "colab": {
          "base_uri": "https://localhost:8080/",
          "height": 35
        },
        "outputId": "2701787b-8639-4848-c018-25ba75bca9ef"
      },
      "source": [
        "def divide(x,y):\n",
        "  try:\n",
        "    val = x/y\n",
        "  except Exception as e:\n",
        "    print('divide by zero error')\n",
        "  else:\n",
        "    print(x)\n",
        "divide(5,0)"
      ],
      "execution_count": 1,
      "outputs": [
        {
          "output_type": "stream",
          "text": [
            "divide by zero error\n"
          ],
          "name": "stdout"
        }
      ]
    },
    {
      "cell_type": "markdown",
      "metadata": {
        "id": "ddtHXfkhPzTV",
        "colab_type": "text"
      },
      "source": [
        "### Program 2 solution"
      ]
    },
    {
      "cell_type": "code",
      "metadata": {
        "id": "8MzYCpjjbdNu",
        "colab_type": "code",
        "colab": {
          "base_uri": "https://localhost:8080/",
          "height": 164
        },
        "outputId": "b9b1df51-0b9f-4d84-b313-e382f04efb5f"
      },
      "source": [
        "subjects = ['Americans','Indians']\n",
        "verbs = ['play','watch']\n",
        "objects = ['Baseball','Cricket']\n",
        "operation = [print('{} {} {}'.format(subject,verb,obj)) for subject in subjects for verb in verbs for obj in objects]"
      ],
      "execution_count": 2,
      "outputs": [
        {
          "output_type": "stream",
          "text": [
            "Americans play Baseball\n",
            "Americans play Cricket\n",
            "Americans watch Baseball\n",
            "Americans watch Cricket\n",
            "Indians play Baseball\n",
            "Indians play Cricket\n",
            "Indians watch Baseball\n",
            "Indians watch Cricket\n"
          ],
          "name": "stdout"
        }
      ]
    }
  ]
}