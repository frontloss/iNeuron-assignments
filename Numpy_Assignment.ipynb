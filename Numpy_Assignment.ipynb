{
  "nbformat": 4,
  "nbformat_minor": 0,
  "metadata": {
    "colab": {
      "name": "Numpy Assignment.ipynb",
      "provenance": [],
      "authorship_tag": "ABX9TyNFeIu73B2vSzu7AnMumCMi",
      "include_colab_link": true
    },
    "kernelspec": {
      "name": "python3",
      "display_name": "Python 3"
    }
  },
  "cells": [
    {
      "cell_type": "markdown",
      "metadata": {
        "id": "view-in-github",
        "colab_type": "text"
      },
      "source": [
        "<a href=\"https://colab.research.google.com/github/frontloss/iNeuron-assignments/blob/master/Numpy_Assignment.ipynb\" target=\"_parent\"><img src=\"https://colab.research.google.com/assets/colab-badge.svg\" alt=\"Open In Colab\"/></a>"
      ]
    },
    {
      "cell_type": "code",
      "metadata": {
        "id": "FSGFdVrynyXr",
        "colab_type": "code",
        "colab": {}
      },
      "source": [
        "import pandas as pd\n",
        "import numpy as np\n",
        "import re"
      ],
      "execution_count": 1,
      "outputs": []
    },
    {
      "cell_type": "code",
      "metadata": {
        "id": "2mW52JYaMAol",
        "colab_type": "code",
        "colab": {
          "base_uri": "https://localhost:8080/",
          "height": 90
        },
        "outputId": "2e02e278-2479-42ef-dddc-38f84b58fecb"
      },
      "source": [
        "num_list = [1,2,3,5]\n",
        "def vander_matrix(num_list,N):\n",
        "  num_arr = np.array(num_list)\n",
        "  num_arr = np.array([num_arr**(N-i-1) for i in range(N)]).T \n",
        "  return num_arr\n",
        "vander_matrix(num_list,3)"
      ],
      "execution_count": 2,
      "outputs": [
        {
          "output_type": "execute_result",
          "data": {
            "text/plain": [
              "array([[ 1,  1,  1],\n",
              "       [ 4,  2,  1],\n",
              "       [ 9,  3,  1],\n",
              "       [25,  5,  1]])"
            ]
          },
          "metadata": {
            "tags": []
          },
          "execution_count": 2
        }
      ]
    },
    {
      "cell_type": "code",
      "metadata": {
        "id": "8MzYCpjjbdNu",
        "colab_type": "code",
        "colab": {
          "base_uri": "https://localhost:8080/",
          "height": 219
        },
        "outputId": "73d0be38-92ee-4c43-9753-a8e514059dcb"
      },
      "source": [
        "seq = [3,5,7,2,8,10,11,65,72,81,99,100,150]\n",
        "def moving_average(seq,window):\n",
        "    rol_result = []\n",
        "    for i in range(len(seq) - window+1):\n",
        "        rol_val = seq[i]\n",
        "        for j in range(i+1,i+window):\n",
        "            rol_val+=seq[j]\n",
        "        rol_result.append(rol_val/window)\n",
        "    return rol_result\n",
        "moving_average(seq,3)"
      ],
      "execution_count": 3,
      "outputs": [
        {
          "output_type": "execute_result",
          "data": {
            "text/plain": [
              "[5.0,\n",
              " 4.666666666666667,\n",
              " 5.666666666666667,\n",
              " 6.666666666666667,\n",
              " 9.666666666666666,\n",
              " 28.666666666666668,\n",
              " 49.333333333333336,\n",
              " 72.66666666666667,\n",
              " 84.0,\n",
              " 93.33333333333333,\n",
              " 116.33333333333333]"
            ]
          },
          "metadata": {
            "tags": []
          },
          "execution_count": 3
        }
      ]
    }
  ]
}